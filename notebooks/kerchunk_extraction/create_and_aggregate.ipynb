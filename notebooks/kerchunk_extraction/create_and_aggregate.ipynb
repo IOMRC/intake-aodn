{
 "cells": [
  {
   "cell_type": "markdown",
   "id": "f1949fa3",
   "metadata": {},
   "source": [
    "# Notebook to create aggregated reference files (json) into monthly or yearly zarrs"
   ]
  },
  {
   "cell_type": "code",
   "execution_count": null,
   "id": "89cae84a-977c-4f38-bcfe-34c08e9ca87e",
   "metadata": {},
   "outputs": [],
   "source": [
    "%load_ext autoreload\n",
    "%autoreload 2"
   ]
  },
  {
   "cell_type": "markdown",
   "id": "a2e46171-da12-46b5-a251-3d48881e00a2",
   "metadata": {
    "tags": []
   },
   "source": [
    "## Step 0: Import the library of code"
   ]
  },
  {
   "cell_type": "code",
   "execution_count": null,
   "id": "32afa976-8fe9-41b3-a969-72012fbc8ccd",
   "metadata": {},
   "outputs": [],
   "source": [
    "import sys\n",
    "import os\n",
    "sys.path.append('/home/jovyan/intake-aodn/')\n",
    "\n",
    "import intake_aodn\n",
    "import intake\n",
    "\n",
    "from intake_aodn.utils import get_local_cluster, get_distributed_cluster\n",
    "from intake_aodn.indexing import process_aggregate\n",
    "from intake_aodn.indexing import keep_fields  "
   ]
  },
  {
   "cell_type": "code",
   "execution_count": null,
   "id": "db31066e-aa82-42bf-acd2-d2870f097e04",
   "metadata": {},
   "outputs": [],
   "source": [
    "# client = get_local_cluster()\n",
    "client = get_distributed_cluster(worker_cores=1, worker_memory=2.0, min_workers=1, max_workers=1)"
   ]
  },
  {
   "cell_type": "code",
   "execution_count": null,
   "id": "f1f0df5e-019a-40c6-b80b-c33d53056350",
   "metadata": {},
   "outputs": [],
   "source": [
    "# requires a working installation of kerchunk in the notebook environment and on the workers if using distributed\n",
    "from dask.distributed import PipInstall\n",
    "plugin = PipInstall(packages=[\"kerchunk\"], pip_options=[\"--upgrade\"])\n",
    "client.register_worker_plugin(plugin)\n",
    "\n",
    "# If using a distributed cluster on EASI build eggs using \"python setup.py bdist_egg\" and upload to workers\n",
    "# otherwise dask workers wont have code for imports\n",
    "client.upload_file('/home/jovyan/intake-aodn/dist/intake_aodn-0+untagged.62.gcd7d4df.dirty-py3.8.egg')"
   ]
  },
  {
   "cell_type": "markdown",
   "id": "e0580b60-2def-46c4-af1e-2c77d06c1fe3",
   "metadata": {},
   "source": [
    "# Unzip existing references"
   ]
  },
  {
   "cell_type": "code",
   "execution_count": null,
   "id": "c28268c6-fc61-43a5-bedb-31e19f43fd5a",
   "metadata": {},
   "outputs": [],
   "source": [
    "!cd ../../intake_aodn/catalogs/ && unzip -q aodn_refs.zip"
   ]
  },
  {
   "cell_type": "markdown",
   "id": "63bbca21-4c0a-4342-bbe8-1bdc138f41d8",
   "metadata": {},
   "source": [
    "# SST Data"
   ]
  },
  {
   "cell_type": "code",
   "execution_count": null,
   "id": "40553785-2a27-4cdd-a85c-4cae43ff6c2a",
   "metadata": {},
   "outputs": [],
   "source": [
    "variables = ['time',\n",
    "             'dt_analysis',\n",
    "             'l2p_flags',\n",
    "             'quality_level',\n",
    "             'satellite_zenith_angle',\n",
    "             'sea_surface_temperature',\n",
    "             'sea_surface_temperature',\n",
    "             'sses_bias',\n",
    "             'sses_count',\n",
    "             'sses_standard_deviation',\n",
    "             'sst_dtime']\n"
   ]
  },
  {
   "cell_type": "code",
   "execution_count": null,
   "id": "ff10ae1c-a5bd-45de-b8d2-b8bb3e0ab3b2",
   "metadata": {},
   "outputs": [],
   "source": [
    "'quality_level1' in variables"
   ]
  },
  {
   "cell_type": "code",
   "execution_count": null,
   "id": "fdae953b-5204-4c82-ac8b-dda71246fc6c",
   "metadata": {},
   "outputs": [],
   "source": [
    "%%time\n",
    "# s3://imos-data-pixeldrill/IMOS/SRS/SST/ghrsst/L3S-1d/ngt/2016/20161001152000-ABOM-L3S_GHRSST-SSTskin-AVHRR_D-1d_night.nc\n",
    "kwargs = dict(root='imos-data/IMOS/SRS/SST/ghrsst/L3S-1d/ngt/',\n",
    "               year='2021',\n",
    "               month='01',\n",
    "               mask='{year}/{year}{month}',\n",
    "               suffix='-ABOM-L3S_GHRSST-SSTskin-AVHRR_D-1d_night',\n",
    "               extension='nc',\n",
    "               check_chunking='sea_surface_temperature',\n",
    "               preprocess=keep_fields(variables),\n",
    "               storage_options=dict(anon=True),\n",
    "               dest='../../intake_aodn/catalogs/',\n",
    "               dask=True)\n",
    "#process_aggregate(**kwargs)"
   ]
  },
  {
   "cell_type": "code",
   "execution_count": null,
   "id": "9cf591ff-1338-4bf5-bd23-59c75ca3ab85",
   "metadata": {},
   "outputs": [],
   "source": [
    "import pandas as pd\n",
    "dt = pd.date_range('1988-01-01',pd.Timestamp.now() + pd.DateOffset(months=1),freq='M')\n",
    "# dt = pd.date_range('2022-02-01',pd.Timestamp.now() + pd.DateOffset(months=1),freq='M')\n",
    "print(dt)"
   ]
  },
  {
   "cell_type": "code",
   "execution_count": null,
   "id": "f6877d1c-1d46-4876-a9e4-b5950c4cf32e",
   "metadata": {},
   "outputs": [],
   "source": [
    "results = []\n",
    "for d in dt:\n",
    "    kws = kwargs.copy()\n",
    "    kws['year'] = d.strftime('%Y')\n",
    "    kws['month'] = d.strftime('%m')\n",
    "    results.append(process_aggregate(**kws))"
   ]
  },
  {
   "cell_type": "markdown",
   "id": "120e8eb9-6303-4e75-a70c-5f1dc882de2f",
   "metadata": {},
   "source": [
    "# MODIS Ocean Colour"
   ]
  },
  {
   "cell_type": "code",
   "execution_count": null,
   "id": "3fa25175-5dab-4587-a6d5-cf8ca45a1d13",
   "metadata": {},
   "outputs": [],
   "source": [
    "kwargs = dict(root='imos-data/IMOS/SRS/OC/gridded/aqua/P1D/',\n",
    "              mask='{year}/{month}/A.P1D.{year}{month}',\n",
    "              dest='../../intake_aodn/catalogs/',\n",
    "              dask=True\n",
    "             ) \n",
    "\n",
    "results = []\n",
    "\n",
    "for d in dt:\n",
    "    for var in ['K_490','chl_oc3','chl_oc3','chl_gsm']:\n",
    "        kws = kwargs.copy()\n",
    "        kws['year'] = d.strftime('%Y')\n",
    "        kws['month'] = d.strftime('%m')\n",
    "        kws['suffix'] = f'.aust.{var}'\n",
    "        kws['check_chunking'] = var\n",
    "        results.append(process_aggregate(**kws))"
   ]
  },
  {
   "cell_type": "markdown",
   "id": "6ca1096e-bc7d-43fc-8bd1-504f00a59f16",
   "metadata": {},
   "source": [
    "## Zip references"
   ]
  },
  {
   "cell_type": "code",
   "execution_count": null,
   "id": "ca3df429-7602-43c8-a3cf-e9b67ad4e74d",
   "metadata": {},
   "outputs": [
    {
     "name": "stderr",
     "output_type": "stream",
     "text": [
      "Exception in callback None()\n",
      "handle: <Handle cancelled>\n",
      "Traceback (most recent call last):\n",
      "  File \"/env/lib/python3.8/site-packages/tornado/iostream.py\", line 1391, in _do_ssl_handshake\n",
      "    self.socket.do_handshake()\n",
      "  File \"/usr/lib/python3.8/ssl.py\", line 1309, in do_handshake\n",
      "    self._sslobj.do_handshake()\n",
      "ssl.SSLCertVerificationError: [SSL: CERTIFICATE_VERIFY_FAILED] certificate verify failed: unable to get local issuer certificate (_ssl.c:1131)\n",
      "\n",
      "During handling of the above exception, another exception occurred:\n",
      "\n",
      "Traceback (most recent call last):\n",
      "  File \"/usr/lib/python3.8/asyncio/events.py\", line 81, in _run\n",
      "    self._context.run(self._callback, *self._args)\n",
      "  File \"/env/lib/python3.8/site-packages/tornado/platform/asyncio.py\", line 189, in _handle_events\n",
      "    handler_func(fileobj, events)\n",
      "  File \"/env/lib/python3.8/site-packages/tornado/iostream.py\", line 696, in _handle_events\n",
      "    self._handle_read()\n",
      "  File \"/env/lib/python3.8/site-packages/tornado/iostream.py\", line 1478, in _handle_read\n",
      "    self._do_ssl_handshake()\n",
      "  File \"/env/lib/python3.8/site-packages/tornado/iostream.py\", line 1409, in _do_ssl_handshake\n",
      "    return self.close(exc_info=err)\n",
      "  File \"/env/lib/python3.8/site-packages/tornado/iostream.py\", line 611, in close\n",
      "    self._signal_closed()\n",
      "  File \"/env/lib/python3.8/site-packages/tornado/iostream.py\", line 641, in _signal_closed\n",
      "    self._ssl_connect_future.exception()\n",
      "asyncio.exceptions.CancelledError\n",
      "2022-06-10 11:26:43,137 - distributed.client - ERROR - Failed to reconnect to scheduler after 30.00 seconds, closing client\n"
     ]
    }
   ],
   "source": [
    "!cd ../../intake_aodn/catalogs/ && rm aodn_refs.zip  && zip -r -q aodn_refs.zip imos-data && rm -rf ../../intake_aodn/catalogs/imos-data/"
   ]
  },
  {
   "cell_type": "code",
   "execution_count": null,
   "id": "d1cf3910-614f-4032-9013-6d96f4f8a4d3",
   "metadata": {},
   "outputs": [],
   "source": [
    "client.shutdown()"
   ]
  },
  {
   "cell_type": "code",
   "execution_count": null,
   "id": "9d5411ff-f1cf-48ae-8a6c-a40cf21349b4",
   "metadata": {},
   "outputs": [],
   "source": []
  }
 ],
 "metadata": {
  "kernelspec": {
   "display_name": "aodn2",
   "language": "python",
   "name": "aodn2"
  },
  "language_info": {
   "codemirror_mode": {
    "name": "ipython",
    "version": 3
   },
   "file_extension": ".py",
   "mimetype": "text/x-python",
   "name": "python",
   "nbconvert_exporter": "python",
   "pygments_lexer": "ipython3",
   "version": "3.8.10"
  }
 },
 "nbformat": 4,
 "nbformat_minor": 5
}
